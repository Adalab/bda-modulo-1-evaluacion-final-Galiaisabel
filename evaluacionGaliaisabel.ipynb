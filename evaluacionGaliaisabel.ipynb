{
 "cells": [
  {
   "cell_type": "code",
   "execution_count": 149,
   "id": "13005a81",
   "metadata": {},
   "outputs": [],
   "source": [
    "# 3 estructuras\n",
    "\n",
    "inventario_producto = [] #una lista que contiene un diccionario\n",
    "clientes = {} #un diccionario\n",
    "venta_totales = 0.0 #es un float"
   ]
  },
  {
   "cell_type": "code",
   "execution_count": 5,
   "id": "6c4f4827",
   "metadata": {},
   "outputs": [],
   "source": [
    "#Agrega producto\n",
    "def agregar_producto(nombre, precio, cantidad):\n",
    "    for producto in inventario_producto:\n",
    "        if producto[\"nombre\"].capitalize().strip() == nombre.capitalize().strip():\n",
    "            producto[\"cantidad\"] += cantidad\n",
    "            return(\"Producto actualizado\")\n",
    "  \n",
    "    # creo el producto a añadir\n",
    "    producto_nuevo = {\n",
    "                \"nombre\": nombre.capitalize().capitalize().strip(),\n",
    "                \"precio\" : precio,\n",
    "                \"cantidad\" : cantidad\n",
    "                }        \n",
    "    inventario_producto.append(producto_nuevo)\n",
    "    print(\"Producto añadido\")\n",
    "                                            \n",
    " "
   ]
  },
  {
   "cell_type": "code",
   "execution_count": 269,
   "id": "da7324f8",
   "metadata": {},
   "outputs": [
    {
     "data": {
      "text/plain": [
       "'Producto actualizado'"
      ]
     },
     "execution_count": 269,
     "metadata": {},
     "output_type": "execute_result"
    }
   ],
   "source": [
    "agregar_producto(\"pera\",1.5,5)"
   ]
  },
  {
   "cell_type": "code",
   "execution_count": 9,
   "id": "19b9ca7f",
   "metadata": {},
   "outputs": [],
   "source": [
    "#Buscar producto\n",
    "def buscar_producto(nombre):\n",
    "    for producto in inventario_producto:\n",
    "        if producto[\"nombre\"].capitalize() == nombre.strip().capitalize():\n",
    "           return f'Nombre: {producto['nombre']}, Precio: ${producto['precio']}, Cantidad: {producto['cantidad']}'\n",
    "        \n",
    "    return \"Producto no encontrado\"\n"
   ]
  },
  {
   "cell_type": "code",
   "execution_count": 10,
   "id": "e3fc06e3",
   "metadata": {},
   "outputs": [
    {
     "data": {
      "text/plain": [
       "'Nombre: Manzana, Precio: $1, Cantidad: 5'"
      ]
     },
     "execution_count": 10,
     "metadata": {},
     "output_type": "execute_result"
    }
   ],
   "source": [
    "buscar_producto(\"   manzana  \")"
   ]
  },
  {
   "cell_type": "code",
   "execution_count": 12,
   "id": "b73b204f",
   "metadata": {},
   "outputs": [],
   "source": [
    "#Ver inventario\n",
    "def ver_inventario():\n",
    "    for producto in inventario_producto:\n",
    "       print(f\"Nombre: {producto['nombre']}, Precio: ${producto['precio']}, Cantidad: {producto['cantidad']}\")\n",
    "       \n",
    "     "
   ]
  },
  {
   "cell_type": "code",
   "execution_count": 13,
   "id": "ba7f7189",
   "metadata": {},
   "outputs": [
    {
     "name": "stdout",
     "output_type": "stream",
     "text": [
      "Nombre: Manzana, Precio: $1, Cantidad: 5\n",
      "Nombre: Pera, Precio: $1, Cantidad: 5\n"
     ]
    }
   ],
   "source": [
    "ver_inventario()"
   ]
  },
  {
   "cell_type": "code",
   "execution_count": 251,
   "id": "a4bd16c4",
   "metadata": {},
   "outputs": [],
   "source": [
    "#Actualiza stock de un producto\n",
    "def actualizar_stock(nombre,cantidad):\n",
    "    for producto in inventario_producto:\n",
    "       if producto[\"nombre\"].strip().capitalize() == nombre.strip().capitalize(): \n",
    "          if cantidad >= 0:\n",
    "            producto[\"cantidad\"] +=cantidad #cuando la cantidad pasada por parametro es positivo no hay problema\n",
    "\n",
    "          else:\n",
    "            if producto[\"cantidad\"] +cantidad >= 0:  #hacemos la operacion, si es mayor a 0 para no dejar la cantidad a negativo \n",
    "             producto[\"cantidad\"] = producto[\"cantidad\"]+cantidad #si cumple actualizo datos\n",
    "            else:          \n",
    "             print(\"No podemos restar esa cantidad.\")\n",
    "            \n",
    "\n",
    "          return f\"Producto actualizado con éxito {producto}\" \n",
    "              \n",
    "    return f\"{nombre} no está en el inventario\"      \n",
    "       \n"
   ]
  },
  {
   "cell_type": "code",
   "execution_count": 253,
   "id": "a0f41a2d",
   "metadata": {},
   "outputs": [
    {
     "data": {
      "text/plain": [
       "'peura no está en el inventario'"
      ]
     },
     "execution_count": 253,
     "metadata": {},
     "output_type": "execute_result"
    }
   ],
   "source": [
    "actualizar_stock(\"peura\",1)\n",
    "#ver_inventario()"
   ]
  },
  {
   "cell_type": "code",
   "execution_count": 68,
   "id": "2902be11",
   "metadata": {},
   "outputs": [],
   "source": [
    "#Elimina un producto\n",
    "def elimina_producto(nombre):\n",
    "    for producto in inventario_producto:\n",
    "        if producto[\"nombre\"].strip().capitalize()==nombre.strip().capitalize():\n",
    "            inventario_producto.remove(producto)\n",
    "            return \"Producto eliminado\"\n",
    "    return \"No existe el producto\"        "
   ]
  },
  {
   "cell_type": "code",
   "execution_count": 70,
   "id": "fc81a49f",
   "metadata": {},
   "outputs": [
    {
     "data": {
      "text/plain": [
       "'Producto eliminado'"
      ]
     },
     "execution_count": 70,
     "metadata": {},
     "output_type": "execute_result"
    }
   ],
   "source": [
    "elimina_producto(\" camisa\")"
   ]
  },
  {
   "cell_type": "code",
   "execution_count": 109,
   "id": "07b7dc89",
   "metadata": {},
   "outputs": [],
   "source": [
    "# Muestra el valor total del inventario\n",
    "\n",
    "def calcular_valor_inventario():\n",
    "  valor_total = 0\n",
    "  for producto in inventario_producto:\n",
    "      valor_total += producto[\"precio\"]* producto[\"cantidad\"]\n",
    "      print(f\"Valor de {producto[\"nombre\"]}: ${ producto[\"precio\"]} * {producto[\"cantidad\"]} unidades\")\n",
    "  \n",
    "  print( f\"\\nValor total del inventario = ${valor_total}\")"
   ]
  },
  {
   "cell_type": "code",
   "execution_count": 110,
   "id": "e18ceee1",
   "metadata": {},
   "outputs": [
    {
     "name": "stdout",
     "output_type": "stream",
     "text": [
      "Valor de Manzana: $1 * 59 unidades\n",
      "Valor de Pera: $1 * 5 unidades\n",
      "\n",
      "Valor total del inventario = $64\n"
     ]
    }
   ],
   "source": [
    "calcular_valor_inventario()"
   ]
  },
  {
   "cell_type": "code",
   "execution_count": 271,
   "id": "04671214",
   "metadata": {},
   "outputs": [],
   "source": [
    "#REALIZARRR COMPRA\n",
    "\n",
    "def realizar_compra():\n",
    " carro_compra=[]\n",
    " total_compra = 0\n",
    " ver_inventario() \n",
    " \n",
    "\n",
    " while True :\n",
    "   \n",
    "    producto_compra=input(\"Escribe el nombre del producto que deseas comprar , SALIR si deseas abandonar la compra o TERMINAR cuando finalices de elegir los productos\")\n",
    "    if producto_compra.upper() == \"SALIR\":\n",
    "         print(\"Hemos salido de la compra\")\n",
    "         break\n",
    "    \n",
    "    \n",
    "    for producto in inventario_producto:   \n",
    "          if  producto[\"nombre\"].strip().capitalize() != producto_compra.strip().capitalize():\n",
    "              print(\"Producto no encontrado vuelve a intentarlo\")\n",
    "\n",
    "          else:#  producto[\"nombre\"].strip().capitalize() == producto_compra.strip().capitalize():\n",
    "           \n",
    "            cantidad_comprar=int(input(\"Cuántas unidades quieres\"))\n",
    "\n",
    "            if cantidad_comprar<=0:\n",
    "             print(\"La cantidad tiene que ser mayor a 0\")\n",
    "             continue\n",
    "              \n",
    "            if cantidad_comprar <= producto[\"cantidad\"]:\n",
    "                producto_a_comprar ={\n",
    "                  \"nombre\": producto_compra,\n",
    "                  \"precio\":producto[\"precio\"],\n",
    "                  \"cantidad\": cantidad_comprar,\n",
    "                  \"total_producto\":producto[\"precio\"]*cantidad_comprar\n",
    "               }\n",
    "                carro_compra.append(producto_a_comprar)\n",
    "               #actualizo stock\n",
    "                producto[\"cantidad\"] =producto[\"cantidad\"]-cantidad_comprar\n",
    "               #sumar el total de cada producto\n",
    "                total_compra = total_compra +producto_a_comprar[\"total_producto\"]\n",
    "                \n",
    "            else:\n",
    "                print(\"Nos falta stock\")  \n",
    "\n",
    "    \n",
    "    if producto_compra ==\"TERMINAR\":                 \n",
    "      return f\"Compra terminada, el coste total de su compra es de: ${total_compra}\" \n",
    "      \n",
    "      \n",
    " "
   ]
  },
  {
   "cell_type": "code",
   "execution_count": 272,
   "id": "96dcb03a",
   "metadata": {},
   "outputs": [
    {
     "name": "stdout",
     "output_type": "stream",
     "text": [
      "Nombre: Pera, Precio: $1, Cantidad: 2\n",
      "Producto no encontrado vuelve a intentarlo\n"
     ]
    },
    {
     "data": {
      "text/plain": [
       "'Compra terminada, el coste total de su compra es de: $1'"
      ]
     },
     "execution_count": 272,
     "metadata": {},
     "output_type": "execute_result"
    }
   ],
   "source": [
    "realizar_compra() \n"
   ]
  },
  {
   "cell_type": "markdown",
   "id": "3e470157",
   "metadata": {},
   "source": [
    " procesar_pago(): Procesa el pago de una compra, calcula el cambio y muestra un mensaje de\n",
    "confirmación.\n",
    "Utiliza un bloque try...except para manejar excepciones.\n",
    "Solicita al cliente ingresar la cantidad total y la cantidad de pago usando un input.\n",
    "evaluacion-final-pt.md 2025-10-14\n",
    "4 / 5\n",
    "Calcula el cambio y muestra un mensaje de pago exitoso o un error en caso de monto\n",
    "insuficiente"
   ]
  },
  {
   "cell_type": "code",
   "execution_count": null,
   "id": "7192798c",
   "metadata": {},
   "outputs": [],
   "source": [
    "def procesar_pago():\n",
    " cambio = 0   \n",
    " try:\n",
    "     cantidad_a_pagar = int(input(\"Ingrese la cantidad a pagar(TOTAL CARITO)\"))\n",
    "     cantidad_pago = int(input(\"Ingrese la cantidad de pago\"))\n",
    "     if  cantidad_a_pagar < cantidad_pago or cantidad_pago== cantidad_a_pagar:\n",
    "       cambio = cantidad_pago - cantidad_a_pagar\n",
    "       if cambio > 0:\n",
    "          print(f\"Pago exitoso, su cambio es de ${cambio}\")\n",
    "       if cambio ==0:\n",
    "          print(f\"Pago exitoso.\")    \n",
    "     else:       \n",
    "        print(\"Monto insuficiente\")                 \n",
    "\n",
    " except TypeError:\n",
    "        print(\"Las cantidades tienen que ser números.\")    "
   ]
  },
  {
   "cell_type": "code",
   "execution_count": 42,
   "id": "95c3ff9e",
   "metadata": {},
   "outputs": [
    {
     "name": "stdout",
     "output_type": "stream",
     "text": [
      "0\n",
      "Monto insuficiente\n"
     ]
    }
   ],
   "source": [
    "procesar_pago()"
   ]
  }
 ],
 "metadata": {
  "kernelspec": {
   "display_name": "Python 3",
   "language": "python",
   "name": "python3"
  },
  "language_info": {
   "codemirror_mode": {
    "name": "ipython",
    "version": 3
   },
   "file_extension": ".py",
   "mimetype": "text/x-python",
   "name": "python",
   "nbconvert_exporter": "python",
   "pygments_lexer": "ipython3",
   "version": "3.13.7"
  }
 },
 "nbformat": 4,
 "nbformat_minor": 5
}
