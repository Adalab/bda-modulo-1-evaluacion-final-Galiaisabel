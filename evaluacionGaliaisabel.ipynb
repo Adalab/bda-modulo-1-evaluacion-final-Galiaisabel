{
 "cells": [
  {
   "cell_type": "code",
   "execution_count": 74,
   "id": "13005a81",
   "metadata": {},
   "outputs": [],
   "source": [
    "# 3 estructuras\n",
    "\n",
    "inventario_producto = [] #una lista que contiene un diccionario\n",
    "clientes = {} #un diccionario\n",
    "venta_totales = 0.0 #es un float"
   ]
  },
  {
   "cell_type": "code",
   "execution_count": 27,
   "id": "6c4f4827",
   "metadata": {},
   "outputs": [],
   "source": [
    "#Agrega producto\n",
    "def agregar_producto(nombre, precio, cantidad):\n",
    "    for producto in inventario_producto:\n",
    "        if producto[\"nombre\"].capitalize().strip() == nombre.capitalize().strip():\n",
    "            producto[\"cantidad\"] += cantidad\n",
    "            return(\"Producto actualizado\")\n",
    "  \n",
    "    # creo el producto a añadir\n",
    "    producto_nuevo = {\n",
    "                \"nombre\": nombre.capitalize().capitalize().strip(),\n",
    "                \"precio\" : precio,\n",
    "                \"cantidad\" : cantidad\n",
    "                }        \n",
    "    inventario_producto.append(producto_nuevo)\n",
    "    print(\"Producto añadido\")\n",
    "                                            \n",
    " "
   ]
  },
  {
   "cell_type": "code",
   "execution_count": 95,
   "id": "da7324f8",
   "metadata": {},
   "outputs": [
    {
     "name": "stdout",
     "output_type": "stream",
     "text": [
      "Producto añadido\n"
     ]
    }
   ],
   "source": [
    "agregar_producto(\"pera  \",1,5)"
   ]
  },
  {
   "cell_type": "code",
   "execution_count": 40,
   "id": "19b9ca7f",
   "metadata": {},
   "outputs": [],
   "source": [
    "#Buscar producto\n",
    "def buscar_producto(nombre):\n",
    "    for producto in inventario_producto:\n",
    "        if producto[\"nombre\"].capitalize() == nombre.strip().capitalize():\n",
    "           return f'Nombre: {producto['nombre']}, Precio: ${producto['precio']}, Cantidad: {producto['cantidad']}'\n",
    "        \n",
    "    return \"Producto no encontrado\"\n"
   ]
  },
  {
   "cell_type": "code",
   "execution_count": 43,
   "id": "e3fc06e3",
   "metadata": {},
   "outputs": [
    {
     "data": {
      "text/plain": [
       "'Nombre: Manzana, Precio: $1, Cantidad: 118'"
      ]
     },
     "execution_count": 43,
     "metadata": {},
     "output_type": "execute_result"
    }
   ],
   "source": [
    "buscar_producto(\"   manzana  \")"
   ]
  },
  {
   "cell_type": "code",
   "execution_count": 3,
   "id": "b73b204f",
   "metadata": {},
   "outputs": [],
   "source": [
    "#Ver inventario\n",
    "def ver_inventario():\n",
    "    for producto in inventario_producto:\n",
    "       print(f\"Nombre: {producto['nombre']}, Precio: ${producto['precio']}, Cantidad: {producto['cantidad']}\")\n",
    "       \n",
    "     "
   ]
  },
  {
   "cell_type": "code",
   "execution_count": 93,
   "id": "ba7f7189",
   "metadata": {},
   "outputs": [],
   "source": [
    "ver_inventario()"
   ]
  },
  {
   "cell_type": "code",
   "execution_count": 67,
   "id": "a4bd16c4",
   "metadata": {},
   "outputs": [],
   "source": [
    "#Actualiza stock de un producto\n",
    "def actualizar_stock(nombre,cantidad):\n",
    "    for producto in inventario_producto:\n",
    "        if producto[\"nombre\"].strip().capitalize() == nombre.strip().capitalize():  \n",
    "            producto[\"cantidad\"] += cantidad \n",
    "            return f\"'Producto actualizado con éxito' {producto}\"         \n",
    "    return f\"{nombre}no está en el inventario\"   \n"
   ]
  },
  {
   "cell_type": "code",
   "execution_count": null,
   "id": "a0f41a2d",
   "metadata": {},
   "outputs": [
    {
     "data": {
      "text/plain": [
       "'ca78misano está en el inventario'"
      ]
     },
     "execution_count": 65,
     "metadata": {},
     "output_type": "execute_result"
    }
   ],
   "source": [
    "actualizar_stock(\"ca78misa\",-8)\n",
    "#ver_inventario()"
   ]
  },
  {
   "cell_type": "code",
   "execution_count": 68,
   "id": "2902be11",
   "metadata": {},
   "outputs": [],
   "source": [
    "#Elimina un producto\n",
    "def elimina_producto(nombre):\n",
    "    for producto in inventario_producto:\n",
    "        if producto[\"nombre\"].strip().capitalize()==nombre.strip().capitalize():\n",
    "            inventario_producto.remove(producto)\n",
    "            return \"Producto eliminado\"\n",
    "    return \"No existe el producto\"        "
   ]
  },
  {
   "cell_type": "code",
   "execution_count": 70,
   "id": "fc81a49f",
   "metadata": {},
   "outputs": [
    {
     "data": {
      "text/plain": [
       "'Producto eliminado'"
      ]
     },
     "execution_count": 70,
     "metadata": {},
     "output_type": "execute_result"
    }
   ],
   "source": [
    "elimina_producto(\" camisa\")"
   ]
  },
  {
   "cell_type": "code",
   "execution_count": 109,
   "id": "07b7dc89",
   "metadata": {},
   "outputs": [],
   "source": [
    "# Muestra el valor total del inventario\n",
    "\n",
    "def calcular_valor_inventario():\n",
    "  valor_total = 0\n",
    "  for producto in inventario_producto:\n",
    "      valor_total += producto[\"precio\"]* producto[\"cantidad\"]\n",
    "      print(f\"Valor de {producto[\"nombre\"]}: ${ producto[\"precio\"]} * {producto[\"cantidad\"]} unidades\")\n",
    "  \n",
    "  print( f\"\\nValor total del inventario = ${valor_total}\")"
   ]
  },
  {
   "cell_type": "code",
   "execution_count": 110,
   "id": "e18ceee1",
   "metadata": {},
   "outputs": [
    {
     "name": "stdout",
     "output_type": "stream",
     "text": [
      "Valor de Manzana: $1 * 59 unidades\n",
      "Valor de Pera: $1 * 5 unidades\n",
      "\n",
      "Valor total del inventario = $64\n"
     ]
    }
   ],
   "source": [
    "calcular_valor_inventario()"
   ]
  },
  {
   "cell_type": "markdown",
   "id": "257291f9",
   "metadata": {},
   "source": [
    " \n",
    "realizar_compra()\n",
    "\n",
    "Permite a un cliente realizar una compra seleccionando productos del inventario.\n",
    "\n",
    "Debe interactuar con el cliente para seleccionar productos y calcular el costo total de la compra.\n",
    "\n",
    "-Utiliza un bucle while para permitir al cliente realizar múltiples compras.\n",
    "\n",
    "-Muestra el inventario y solicita al cliente ingresar el nombre del producto que desea comprar.\n",
    "\n",
    "-Registra los productos seleccionados en un carrito y actualiza el inventario.\n",
    "\n",
    "-Calcula el costo total de la compra."
   ]
  },
  {
   "cell_type": "code",
   "execution_count": 111,
   "id": "04671214",
   "metadata": {},
   "outputs": [],
   "source": [
    "#REALIZARRR COMPRA\n",
    "def realizar_compra():\n",
    "    print(\"---ESTOS SON LOS PRODUCTOS QUE TENEMOS, ¿CUÁL DESEAS?---\\n\")\n",
    "    ver_inventario()\n",
    "    while True:\n",
    "        producto_Compra=input(\"Escribe el nombre del producto que deseas comprar\")"
   ]
  },
  {
   "cell_type": "code",
   "execution_count": null,
   "id": "96dcb03a",
   "metadata": {},
   "outputs": [
    {
     "name": "stdout",
     "output_type": "stream",
     "text": [
      "---ESTOS SON LOS PRODUCTOS QUE TENEMOS, ¿CUÁL DESEAS?---\n",
      "\n",
      "Nombre: Manzana, Precio: $1, Cantidad: 59\n",
      "Nombre: Pera, Precio: $1, Cantidad: 5\n"
     ]
    }
   ],
   "source": [
    "realizar_compra()"
   ]
  }
 ],
 "metadata": {
  "kernelspec": {
   "display_name": "Python 3",
   "language": "python",
   "name": "python3"
  },
  "language_info": {
   "codemirror_mode": {
    "name": "ipython",
    "version": 3
   },
   "file_extension": ".py",
   "mimetype": "text/x-python",
   "name": "python",
   "nbconvert_exporter": "python",
   "pygments_lexer": "ipython3",
   "version": "3.13.7"
  }
 },
 "nbformat": 4,
 "nbformat_minor": 5
}
