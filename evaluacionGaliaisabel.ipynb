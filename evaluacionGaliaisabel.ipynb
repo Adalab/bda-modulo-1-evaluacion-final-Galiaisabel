{
 "cells": [
  {
   "cell_type": "code",
   "execution_count": 13,
   "id": "13005a81",
   "metadata": {},
   "outputs": [],
   "source": [
    "# 3 estructuras\n",
    "\n",
    "inventario_producto = [] #una lista que contiene un diccionario\n",
    "clientes = {} #un diccionario\n",
    "venta_totales = 0.0 #es un float"
   ]
  },
  {
   "cell_type": "code",
   "execution_count": 15,
   "id": "6c4f4827",
   "metadata": {},
   "outputs": [],
   "source": [
    "#Agrega producto\n",
    "def agregar_producto(nombre, precio, cantidad):\n",
    "    for producto in inventario_producto:\n",
    "        if producto[\"nombre\"].capitalize().strip() == nombre.capitalize().strip():\n",
    "            producto[\"cantidad\"] += cantidad\n",
    "            return(\"Producto actualizado\")\n",
    "  \n",
    "    # creo el producto a añadir\n",
    "    producto_nuevo = {\n",
    "                \"nombre\": nombre.capitalize().capitalize().strip(),\n",
    "                \"precio\" : precio,\n",
    "                \"cantidad\" : cantidad\n",
    "                }        \n",
    "    inventario_producto.append(producto_nuevo)\n",
    "    print(\"Producto añadido\")\n",
    "                                            \n",
    " "
   ]
  },
  {
   "cell_type": "code",
   "execution_count": 97,
   "id": "da7324f8",
   "metadata": {},
   "outputs": [
    {
     "name": "stdout",
     "output_type": "stream",
     "text": [
      "Producto añadido\n"
     ]
    }
   ],
   "source": [
    "agregar_producto(\"MANZANA\",1,5)"
   ]
  },
  {
   "cell_type": "code",
   "execution_count": 6,
   "id": "19b9ca7f",
   "metadata": {},
   "outputs": [],
   "source": [
    "#Buscar producto\n",
    "def buscar_producto(nombre):\n",
    "    for producto in inventario_producto:\n",
    "        if producto[\"nombre\"].capitalize() == nombre.strip().capitalize():\n",
    "           return f'Nombre: {producto['nombre']}, Precio: ${producto['precio']}, Cantidad: {producto['cantidad']}'\n",
    "        \n",
    "    return \"Producto no encontrado\"\n"
   ]
  },
  {
   "cell_type": "code",
   "execution_count": 7,
   "id": "e3fc06e3",
   "metadata": {},
   "outputs": [
    {
     "data": {
      "text/plain": [
       "'Producto no encontrado'"
      ]
     },
     "execution_count": 7,
     "metadata": {},
     "output_type": "execute_result"
    }
   ],
   "source": [
    "buscar_producto(\"   manzana  \")"
   ]
  },
  {
   "cell_type": "code",
   "execution_count": 9,
   "id": "b73b204f",
   "metadata": {},
   "outputs": [],
   "source": [
    "#Ver inventario\n",
    "def ver_inventario():\n",
    "    for producto in inventario_producto:\n",
    "       print(f\"Nombre: {producto['nombre']}, Precio: ${producto['precio']}, Cantidad: {producto['cantidad']}\")\n",
    "       \n",
    "     "
   ]
  },
  {
   "cell_type": "code",
   "execution_count": 17,
   "id": "ba7f7189",
   "metadata": {},
   "outputs": [
    {
     "name": "stdout",
     "output_type": "stream",
     "text": [
      "Nombre: Camisa, Precio: $1, Cantidad: 5\n"
     ]
    }
   ],
   "source": [
    "ver_inventario()"
   ]
  },
  {
   "cell_type": "code",
   "execution_count": 137,
   "id": "a4bd16c4",
   "metadata": {},
   "outputs": [],
   "source": [
    "#Actualiza stock de un producto\n",
    "def actualizar_stock(nombre,cantidad):\n",
    "    for producto in inventario_producto:\n",
    "        if producto[\"nombre\"].strip().capitalize() == nombre.strip().capitalize():  \n",
    "            producto[\"cantidad\"] += cantidad \n",
    "            return f\"'Producto actualizado con éxito' {producto}\"         \n",
    "    return f\"{nombre} no está en el inventario\"   \n"
   ]
  },
  {
   "cell_type": "code",
   "execution_count": 154,
   "id": "a0f41a2d",
   "metadata": {},
   "outputs": [
    {
     "data": {
      "text/plain": [
       "\"'Producto actualizado con éxito' {'nombre': 'Manzana', 'precio': 1, 'cantidad': 40}\""
      ]
     },
     "execution_count": 154,
     "metadata": {},
     "output_type": "execute_result"
    }
   ],
   "source": [
    "actualizar_stock(\"MANZANA\",8)\n",
    "#ver_inventario()"
   ]
  },
  {
   "cell_type": "code",
   "execution_count": 68,
   "id": "2902be11",
   "metadata": {},
   "outputs": [],
   "source": [
    "#Elimina un producto\n",
    "def elimina_producto(nombre):\n",
    "    for producto in inventario_producto:\n",
    "        if producto[\"nombre\"].strip().capitalize()==nombre.strip().capitalize():\n",
    "            inventario_producto.remove(producto)\n",
    "            return \"Producto eliminado\"\n",
    "    return \"No existe el producto\"        "
   ]
  },
  {
   "cell_type": "code",
   "execution_count": 70,
   "id": "fc81a49f",
   "metadata": {},
   "outputs": [
    {
     "data": {
      "text/plain": [
       "'Producto eliminado'"
      ]
     },
     "execution_count": 70,
     "metadata": {},
     "output_type": "execute_result"
    }
   ],
   "source": [
    "elimina_producto(\" camisa\")"
   ]
  },
  {
   "cell_type": "code",
   "execution_count": 109,
   "id": "07b7dc89",
   "metadata": {},
   "outputs": [],
   "source": [
    "# Muestra el valor total del inventario\n",
    "\n",
    "def calcular_valor_inventario():\n",
    "  valor_total = 0\n",
    "  for producto in inventario_producto:\n",
    "      valor_total += producto[\"precio\"]* producto[\"cantidad\"]\n",
    "      print(f\"Valor de {producto[\"nombre\"]}: ${ producto[\"precio\"]} * {producto[\"cantidad\"]} unidades\")\n",
    "  \n",
    "  print( f\"\\nValor total del inventario = ${valor_total}\")"
   ]
  },
  {
   "cell_type": "code",
   "execution_count": 110,
   "id": "e18ceee1",
   "metadata": {},
   "outputs": [
    {
     "name": "stdout",
     "output_type": "stream",
     "text": [
      "Valor de Manzana: $1 * 59 unidades\n",
      "Valor de Pera: $1 * 5 unidades\n",
      "\n",
      "Valor total del inventario = $64\n"
     ]
    }
   ],
   "source": [
    "calcular_valor_inventario()"
   ]
  },
  {
   "cell_type": "markdown",
   "id": "257291f9",
   "metadata": {},
   "source": [
    " \n",
    "realizar_compra()\n",
    "\n",
    "Permite a un cliente realizar una compra seleccionando productos del inventario.\n",
    "\n",
    "Debe interactuar con el cliente para seleccionar productos y calcular el costo total de la compra.\n",
    "\n",
    "-Utiliza un bucle while para permitir al cliente realizar múltiples compras.\n",
    "\n",
    "-Muestra el inventario y solicita al cliente ingresar el nombre del producto que desea comprar.\n",
    "\n",
    "-Registra los productos seleccionados en un carrito y actualiza el inventario.\n",
    "\n",
    "-Calcula el costo total de la compra."
   ]
  },
  {
   "cell_type": "code",
   "execution_count": null,
   "id": "04671214",
   "metadata": {},
   "outputs": [],
   "source": [
    "#REALIZARRR COMPRA\n",
    "\n",
    "def realizar_compra():\n",
    " carro_compra=[]\n",
    " venta_totales = 0\n",
    " ver_inventario() \n",
    " producto_encontrado =True\n",
    "\n",
    " while True :\n",
    "   \n",
    "    producto_compra=input(\"Escribe el nombre del producto que deseas comprar , SALIR si deseas abandonar la compra o TERMINAR cuando finalices de elegir los productos\")\n",
    "    if producto_compra == \"SALIR\":\n",
    "         print(\"Hemos salido de la compra\")\n",
    "         break\n",
    "    \n",
    "    producto_encontrado=False\n",
    "    for producto in inventario_producto:          \n",
    "           if  producto[\"nombre\"].strip().capitalize() == producto_compra.strip().capitalize():\n",
    "            producto_encontrado=True\n",
    "            cantidad_comprar=int(input(\"Cuántas unidades quieres\"))\n",
    "\n",
    "            if cantidad_comprar<=0:\n",
    "             print(\"La cantidad tiene que ser mayor a 0\")\n",
    "             continue\n",
    "              \n",
    "            if cantidad_comprar <= producto[\"cantidad\"]:\n",
    "                producto_a_comprar ={\n",
    "                  \"nombre\": producto_compra,\n",
    "                  \"precio\":producto[\"precio\"],\n",
    "                  \"cantidad\": cantidad_comprar,\n",
    "                  \"total_producto\":producto[\"precio\"]*cantidad_comprar\n",
    "               }\n",
    "                carro_compra.append(producto_a_comprar)\n",
    "               #actualizo stock\n",
    "                producto[\"cantidad\"] =producto[\"cantidad\"]-cantidad_comprar\n",
    "               #sumar el total de cada producto\n",
    "                venta_totales = venta_totales +producto_a_comprar[\"total_producto\"]\n",
    "                print(venta_totales)\n",
    "            else:\n",
    "                print(\"Nos falta stock\")  \n",
    "\n",
    "    if  producto_encontrado==False  and producto_compra!=\"SALIR\" and producto_compra !=\"TERMINAR\":        \n",
    "             print(\"Producto no enconrado vuelve a intentarlo\")\n",
    "    if producto_compra ==\"TERMINAR\":                 \n",
    "      print(f\"Compra terminada, el coste total de su compra es de: {venta_totales}\")  \n",
    "      break\n",
    " "
   ]
  },
  {
   "cell_type": "code",
   "execution_count": 171,
   "id": "96dcb03a",
   "metadata": {},
   "outputs": [
    {
     "name": "stdout",
     "output_type": "stream",
     "text": [
      "Nombre: Camisa, Precio: $1, Cantidad: 11\n",
      "Nombre: Polo, Precio: $1, Cantidad: 0\n",
      "Nombre: Manzana, Precio: $1, Cantidad: 17\n",
      "1\n",
      "naada\n",
      "naada\n",
      "Producto no enconrado vuelve a intentarlo\n",
      "naada\n",
      "Producto no enconrado vuelve a intentarlo\n",
      "Nos falta stock\n",
      "naada\n",
      "Hemos salido de la compra\n"
     ]
    }
   ],
   "source": [
    "realizar_compra() \n"
   ]
  }
 ],
 "metadata": {
  "kernelspec": {
   "display_name": "Python 3",
   "language": "python",
   "name": "python3"
  },
  "language_info": {
   "codemirror_mode": {
    "name": "ipython",
    "version": 3
   },
   "file_extension": ".py",
   "mimetype": "text/x-python",
   "name": "python",
   "nbconvert_exporter": "python",
   "pygments_lexer": "ipython3",
   "version": "3.13.7"
  }
 },
 "nbformat": 4,
 "nbformat_minor": 5
}
