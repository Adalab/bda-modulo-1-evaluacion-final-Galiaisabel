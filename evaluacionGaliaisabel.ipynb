{
 "cells": [
  {
   "cell_type": "code",
   "execution_count": 138,
   "id": "13005a81",
   "metadata": {},
   "outputs": [],
   "source": [
    "# 3 estructuras\n",
    "\n",
    "inventario_producto = [] #una lista que contiene un diccionario\n",
    "clientes = {} #un diccionario\n",
    "venta_totales = 0.0 #es un float"
   ]
  },
  {
   "cell_type": "code",
   "execution_count": 8,
   "id": "6c4f4827",
   "metadata": {},
   "outputs": [],
   "source": [
    "#Agrega producto\n",
    "def agregar_producto(nombre, precio, cantidad):\n",
    "    for producto in inventario_producto:\n",
    "        if producto[\"nombre\"].lower().strip() == nombre.lower().strip():\n",
    "            producto[\"cantidad\"] += cantidad\n",
    "            return f\"{producto[\"nombre\"]} ha sido actualizado\"\n",
    "  \n",
    "    # creo el producto a añadir\n",
    "    producto_nuevo = {\n",
    "                \"nombre\": nombre.lower().strip(),\n",
    "                \"precio\" : precio,\n",
    "                \"cantidad\" : cantidad\n",
    "                }        \n",
    "    inventario_producto.append(producto_nuevo) #añado el producto nuevo\n",
    "    return f\"El producto {producto_nuevo[\"nombre\"]} ha sido añadido \"\n",
    "                                            \n",
    " "
   ]
  },
  {
   "cell_type": "code",
   "execution_count": 5,
   "id": "055a977c",
   "metadata": {},
   "outputs": [],
   "source": [
    "#Ver inventario\n",
    "def ver_inventario():\n",
    "    # el inventario está vacío?\n",
    "    if len(inventario_producto)==0:\n",
    "       print(\"El inventario está vacío.\")\n",
    "   #recorremos y mostramos c/producto\n",
    "    for producto in inventario_producto:\n",
    "     print(f\"Nombre: {producto['nombre']}, Precio: ${producto['precio']}, Cantidad: {producto['cantidad']}\")\n",
    "       "
   ]
  },
  {
   "cell_type": "code",
   "execution_count": 180,
   "id": "17271c21",
   "metadata": {},
   "outputs": [
    {
     "data": {
      "text/plain": [
       "'El producto bolso ha sido añadido '"
      ]
     },
     "execution_count": 180,
     "metadata": {},
     "output_type": "execute_result"
    }
   ],
   "source": [
    "agregar_producto(\"bolso\",50,60)"
   ]
  },
  {
   "cell_type": "code",
   "execution_count": null,
   "id": "19b9ca7f",
   "metadata": {},
   "outputs": [],
   "source": [
    "#Buscar producto\n",
    "def buscar_producto(nombre):\n",
    "    for producto in inventario_producto:\n",
    "        if producto[\"nombre\"].lower() == nombre.strip().lower():\n",
    "           return f\"Nombre: {producto['nombre']}, Precio: ${producto['precio']}, Cantidad: {producto['cantidad']}\"\n",
    "        \n",
    "    return f\"{nombre} :el producto no está en el inventario.\"\n"
   ]
  },
  {
   "cell_type": "code",
   "execution_count": 174,
   "id": "e3fc06e3",
   "metadata": {},
   "outputs": [
    {
     "data": {
      "text/plain": [
       "'   MANZA6NA   :el producto no está en el inventario.'"
      ]
     },
     "execution_count": 174,
     "metadata": {},
     "output_type": "execute_result"
    }
   ],
   "source": [
    "buscar_producto(\"   MANZA6NA  \")"
   ]
  },
  {
   "cell_type": "code",
   "execution_count": null,
   "id": "a4bd16c4",
   "metadata": {},
   "outputs": [],
   "source": [
    "#Actualizar stock de un producto\n",
    "def actualizar_stock(nombre,cantidad):\n",
    " for producto in inventario_producto:\n",
    "   if producto[\"nombre\"].strip().lower() == nombre.strip().lower():  \n",
    "     cant = producto[\"cantidad\"]+cantidad\n",
    "     if cant < 0:\n",
    "      return \"El stock no puede ser negativo\"\n",
    "     \n",
    "   producto[\"cantidad\"] = cant\n",
    "   return f\"Producto actualizado con éxito {producto}\"\n",
    "       \n",
    " return f\"{nombre} no está en el inventario\"\n"
   ]
  },
  {
   "cell_type": "code",
   "execution_count": 156,
   "id": "a0f41a2d",
   "metadata": {},
   "outputs": [
    {
     "data": {
      "text/plain": [
       "\"Producto actualizado con éxito {'nombre': 'bolso', 'precio': 50, 'cantidad': 30}\""
      ]
     },
     "execution_count": 156,
     "metadata": {},
     "output_type": "execute_result"
    }
   ],
   "source": [
    "actualizar_stock(\"bolso\",10)\n"
   ]
  },
  {
   "cell_type": "code",
   "execution_count": 157,
   "id": "2902be11",
   "metadata": {},
   "outputs": [],
   "source": [
    "#Elimina un producto\n",
    "def elimina_producto(nombre):\n",
    "    for producto in inventario_producto:\n",
    "        if producto[\"nombre\"].strip().lower()==nombre.strip().lower():\n",
    "            inventario_producto.remove(producto)\n",
    "            return \"Producto eliminado\"\n",
    "    return \"No existe el producto\"        "
   ]
  },
  {
   "cell_type": "code",
   "execution_count": 159,
   "id": "fc81a49f",
   "metadata": {},
   "outputs": [
    {
     "data": {
      "text/plain": [
       "'Producto eliminado'"
      ]
     },
     "execution_count": 159,
     "metadata": {},
     "output_type": "execute_result"
    }
   ],
   "source": [
    "elimina_producto(\"bolso\")"
   ]
  },
  {
   "cell_type": "code",
   "execution_count": 174,
   "id": "07b7dc89",
   "metadata": {},
   "outputs": [],
   "source": [
    "# Muestra el valor total del inventario\n",
    "def calcular_valor_inventario():\n",
    "  valor_total = 0.0\n",
    "  for producto in inventario_producto:\n",
    "      valor_total += producto[\"precio\"] * producto[\"cantidad\"]\n",
    "      print(f\"Valor de {producto[\"nombre\"]}: ${ producto[\"precio\"]} * {producto[\"cantidad\"]} unidades\")\n",
    "  \n",
    "  return f\" Valor total del inventario = ${valor_total}\""
   ]
  },
  {
   "cell_type": "code",
   "execution_count": 173,
   "id": "e18ceee1",
   "metadata": {},
   "outputs": [
    {
     "data": {
      "text/plain": [
       "' Valor total del inventario = $0.0'"
      ]
     },
     "execution_count": 173,
     "metadata": {},
     "output_type": "execute_result"
    }
   ],
   "source": [
    "calcular_valor_inventario()"
   ]
  },
  {
   "cell_type": "code",
   "execution_count": null,
   "id": "04671214",
   "metadata": {},
   "outputs": [],
   "source": [
    "#REALIZARRR COMPRA\n",
    "\n",
    "def realizar_compra():\n",
    " carro_compra=[]\n",
    " total_compra = 0\n",
    " ver_inventario() \n",
    " \n",
    "\n",
    " while True :\n",
    "   \n",
    "    producto_compra=input(\"Escribe el nombre del producto que deseas comprar , SALIR si deseas abandonar la compra o TERMINAR cuando finalices de elegir los productos\")\n",
    "    if producto_compra.upper() == \"SALIR\":\n",
    "         print(\"Hemos salido de la compra\")\n",
    "         break\n",
    "    \n",
    "    \n",
    "    for producto in inventario_producto:   \n",
    "          if  producto[\"nombre\"].strip().lower() != producto_compra.strip().lower() and producto_compra.upper() !=\"SALIR\" and producto_compra.upper()!=\"TERMINAR\":\n",
    "              print(\"Producto no encontrado vuelve a intentarlo\")\n",
    "\n",
    "          if producto[\"nombre\"].strip().lower() == producto_compra.strip().lower():\n",
    "           \n",
    "           \n",
    "            try:\n",
    "                cantidad_comprar=int(input(\"Cuántas unidades quieres\"))\n",
    "                if cantidad_comprar<=0:\n",
    "                    print(\"La cantidad tiene que ser mayor a 0\")\n",
    "                    continue\n",
    "                    \n",
    "                if cantidad_comprar <= producto[\"cantidad\"]:\n",
    "                        producto_a_comprar ={\n",
    "                        \"nombre\": producto_compra,\n",
    "                        \"precio\":producto[\"precio\"],\n",
    "                        \"cantidad\": cantidad_comprar,\n",
    "                        \"total_producto\":producto[\"precio\"]*cantidad_comprar\n",
    "                    }\n",
    "                        carro_compra.append(producto_a_comprar)\n",
    "                    #actualizo stock\n",
    "                        producto[\"cantidad\"] =producto[\"cantidad\"]-cantidad_comprar\n",
    "                    #sumar el total de cada producto\n",
    "                        total_compra = total_compra +producto_a_comprar[\"total_producto\"]\n",
    "                        \n",
    "                else:\n",
    "                    print(\"Nos falta stock\")  \n",
    "\n",
    "            except ValueError:\n",
    "               print(\"La cantidad tiene que ser un número\")       \n",
    "\n",
    "    \n",
    "    if producto_compra.upper() ==\"TERMINAR\":  \n",
    "     print(\"\\nResumen de su compra: \")   \n",
    "     for i in carro_compra:\n",
    "      print (f\"Producto: {i['nombre']} Precio x unidad: {i[\"precio\"]} CANTIDAD: {i[\"cantidad\"]}\")         \n",
    "     return f\"El coste total de su compra es de: ${total_compra}\" \n",
    "           \n",
    " "
   ]
  },
  {
   "cell_type": "code",
   "execution_count": 206,
   "id": "96dcb03a",
   "metadata": {},
   "outputs": [
    {
     "name": "stdout",
     "output_type": "stream",
     "text": [
      "Nombre: bolso, Precio: $50, Cantidad: 46\n",
      "Producto no encontrado vuelve a intentarlo\n",
      "La cantidad tiene que ser mayor a 0\n",
      "Hemos salido de la compra\n"
     ]
    }
   ],
   "source": [
    "realizar_compra() \n"
   ]
  },
  {
   "cell_type": "code",
   "execution_count": null,
   "id": "7192798c",
   "metadata": {},
   "outputs": [],
   "source": [
    "def procesar_pago():\n",
    " cambio = 0   \n",
    " try:\n",
    "     cantidad_a_pagar = int(input(\"Ingrese la cantidad a pagar(TOTAL CARRITO)\"))\n",
    "     cantidad_pago = int(input(\"Ingrese la cantidad de pago\"))\n",
    "     if  cantidad_a_pagar < cantidad_pago or cantidad_pago == cantidad_a_pagar:\n",
    "       cambio = cantidad_pago - cantidad_a_pagar\n",
    "       if cambio >= 0:\n",
    "          print(f\"Pago exitoso, su cambio es de ${cambio}\")\n",
    "     else:       \n",
    "        print(\"Monto insuficiente\")                 \n",
    "\n",
    " except TypeError:\n",
    "        print(\"Las cantidades tienen que ser números.\")    "
   ]
  },
  {
   "cell_type": "code",
   "execution_count": 6,
   "id": "95c3ff9e",
   "metadata": {},
   "outputs": [
    {
     "name": "stdout",
     "output_type": "stream",
     "text": [
      "Pago exitoso, su cambio es de $0\n"
     ]
    }
   ],
   "source": [
    "procesar_pago()"
   ]
  },
  {
   "cell_type": "code",
   "execution_count": 211,
   "id": "339c9174",
   "metadata": {},
   "outputs": [],
   "source": [
    "#Agregar cliente\n",
    "def agregar_cliente(nombre,correo_electronico):\n",
    "    \n",
    " clientes[nombre]= {\n",
    "        \"email\": correo_electronico\n",
    "    }\n",
    " print(\"Ha sido agregado con éxito\")\n",
    "    "
   ]
  },
  {
   "cell_type": "code",
   "execution_count": 218,
   "id": "ebc53e58",
   "metadata": {},
   "outputs": [
    {
     "name": "stdout",
     "output_type": "stream",
     "text": [
      "Ha sido agregado con éxito\n"
     ]
    }
   ],
   "source": [
    "agregar_cliente(\"Galia Isabel\",\"ariaspinarRes@gmail.com\")"
   ]
  },
  {
   "cell_type": "code",
   "execution_count": 216,
   "id": "1a3484e6",
   "metadata": {},
   "outputs": [],
   "source": [
    "def ver_cliente():\n",
    "  for clave, valor in clientes.items():\n",
    "   print(f\"{clave}: {valor}\\n\")\n",
    "    "
   ]
  },
  {
   "cell_type": "code",
   "execution_count": 219,
   "id": "a042a8a6",
   "metadata": {},
   "outputs": [
    {
     "name": "stdout",
     "output_type": "stream",
     "text": [
      "Galia Isabel: {'email': 'ariaspinarRes@gmail.com'}\n",
      "\n"
     ]
    }
   ],
   "source": [
    "ver_cliente()"
   ]
  }
 ],
 "metadata": {
  "kernelspec": {
   "display_name": "Python 3",
   "language": "python",
   "name": "python3"
  },
  "language_info": {
   "codemirror_mode": {
    "name": "ipython",
    "version": 3
   },
   "file_extension": ".py",
   "mimetype": "text/x-python",
   "name": "python",
   "nbconvert_exporter": "python",
   "pygments_lexer": "ipython3",
   "version": "3.13.7"
  }
 },
 "nbformat": 4,
 "nbformat_minor": 5
}
