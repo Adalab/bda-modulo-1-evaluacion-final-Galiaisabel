{
 "cells": [
  {
   "cell_type": "code",
   "execution_count": 4,
   "id": "13005a81",
   "metadata": {},
   "outputs": [],
   "source": [
    "# 3 estructuras\n",
    "\n",
    "inventario_producto = [] #una lista que contiene un diccionario\n",
    "clientes = {} #un diccionario\n",
    "venta_totales = 0.0 #es un float"
   ]
  },
  {
   "cell_type": "code",
   "execution_count": 3,
   "id": "6c4f4827",
   "metadata": {},
   "outputs": [],
   "source": [
    "#Agrega producto\n",
    "def agregar_producto(nombre, precio, cantidad):\n",
    "    for producto in inventario_producto:\n",
    "        if producto[\"nombre\"] == nombre.capitalize().strip():\n",
    "            producto[\"cantidad\"] += cantidad\n",
    "            return(\"Producto actualizado\")\n",
    "  \n",
    "    # creo el producto a añadir\n",
    "    producto_nuevo = {\n",
    "                \"nombre\": nombre.capitalize(),\n",
    "                \"precio\" : precio,\n",
    "                \"cantidad\" : cantidad\n",
    "                }        \n",
    "    inventario_producto.append(producto_nuevo)\n",
    "    print(\"Producto añadido\")\n",
    "                                            \n",
    " "
   ]
  },
  {
   "cell_type": "code",
   "execution_count": null,
   "id": "19b9ca7f",
   "metadata": {},
   "outputs": [],
   "source": [
    "#Buscar producto\n",
    "def buscar_producto(nombre):\n",
    "    for producto in inventario_producto:\n",
    "        if producto[\"nombre\"].capitalize() == nombre.capitalize():\n",
    "           return f'Nombre: {producto['nombre']}, Precio: ${producto['precio']}, Cantidad: {producto['cantidad']}'\n",
    "        \n",
    "    return \"Producto no encontrado\"\n"
   ]
  },
  {
   "cell_type": "code",
   "execution_count": null,
   "id": "b73b204f",
   "metadata": {},
   "outputs": [],
   "source": [
    "#Ver inventario\n",
    "def ver_inventario():\n",
    "    for producto in inventario_producto:\n",
    "       print(f\"Nombre: {producto['nombre']}, Precio: ${producto['precio']}, Cantidad: {producto['cantidad']}\")\n",
    "       \n",
    "     "
   ]
  },
  {
   "cell_type": "code",
   "execution_count": null,
   "id": "a4bd16c4",
   "metadata": {},
   "outputs": [],
   "source": [
    "#Actualiza stock de un producto\n",
    "def actualizar_stock(nombre,cantidad):\n",
    "    for producto in inventario_producto:\n",
    "        if producto[\"nombre\"].capitalize() == nombre.capitalize(): \n",
    "         if cantidad ==0:\n",
    "             producto[\"cantidad\"]=0    \n",
    "         else: \n",
    "             producto[\"cantidad\"] += cantidad \n",
    "         return producto         \n",
    "    return \"Producto no está en el inventario\"   \n"
   ]
  },
  {
   "cell_type": "code",
   "execution_count": null,
   "id": "2902be11",
   "metadata": {},
   "outputs": [],
   "source": [
    "#Elimina un producto\n",
    "def elimina_producto(nombre):\n",
    "    for producto in inventario_producto:\n",
    "        if producto[\"nombre\"]==nombre.capitalize():\n",
    "            inventario_producto.remove(producto)\n",
    "            return \"Eliminado\"\n",
    "    return \"No existe el producto\"        "
   ]
  },
  {
   "cell_type": "code",
   "execution_count": 828,
   "id": "07b7dc89",
   "metadata": {},
   "outputs": [],
   "source": [
    "# Muestra el valor total del inventario\n",
    "def calcular_valor_inventario():\n",
    "  guarda_valor = 0\n",
    " \n",
    "  for producto in inventario_producto:\n",
    "      guarda_valor += producto[\"precio\"]* producto[\"cantidad\"]\n",
    "      print(f\"Valor de {producto[\"nombre\"]}: ${ producto[\"precio\"]} * {producto[\"cantidad\"]}unidades\")\n",
    "      \n",
    "  print( f\"\\nValor total del inventario = ${guarda_valor}\")"
   ]
  },
  {
   "cell_type": "code",
   "execution_count": 829,
   "id": "e18ceee1",
   "metadata": {},
   "outputs": [
    {
     "name": "stdout",
     "output_type": "stream",
     "text": [
      "Valor de Polo: $3 * 5unidades\n",
      "Valor de Sujetador: $13 * 10unidades\n",
      "Valor de Bragaa: $45 * 56unidades\n",
      "\n",
      "Valor total del inventario = $2665\n"
     ]
    }
   ],
   "source": [
    "calcular_valor_inventario()"
   ]
  },
  {
   "cell_type": "markdown",
   "id": "257291f9",
   "metadata": {},
   "source": [
    " \n",
    "realizar_compra()\n",
    " : Permite a un cliente realizar una compra seleccionando productos del\n",
    " inventario. Debe interactuar con el cliente para seleccionar productos y calcular el costo total de la\n",
    " compra.\n",
    " Utiliza un bucle \n",
    "while\n",
    " para permitir al cliente realizar múltiples compras.\n",
    " Muestra el inventario y solicita al cliente ingresar el nombre del producto que desea comprar.\n",
    " Registra los productos seleccionados en un carrito y actualiza el inventario.\n",
    " Calcula el costo total de la compra."
   ]
  },
  {
   "cell_type": "code",
   "execution_count": 842,
   "id": "04671214",
   "metadata": {},
   "outputs": [],
   "source": [
    "#REALIZARRR COMPRA\n",
    "def realizar_compra():\n",
    "    print(\"---ESTOS SON LOS PRODUCTOS QUE TENEMOS, ¿CUÁL DESEAS?---\\n\")\n",
    "    ver_inventario()\n",
    "    while True:\n",
    "        producto_Compra=input(\"Escribe el nombre del producto que deseas comprar\")"
   ]
  },
  {
   "cell_type": "code",
   "execution_count": null,
   "id": "96dcb03a",
   "metadata": {},
   "outputs": [
    {
     "name": "stdout",
     "output_type": "stream",
     "text": [
      "---ESTOS SON LOS PRODUCTOS QUE TENEMOS, ¿CUÁL DESEAS?---\n",
      "\n",
      "Nombre: Polo, Precio: $3, Cantidad: 5\n",
      "Nombre: Sujetador, Precio: $13, Cantidad: 10\n",
      "Nombre: Bragaa, Precio: $45, Cantidad: 56\n"
     ]
    }
   ],
   "source": [
    "realizar_compra()"
   ]
  }
 ],
 "metadata": {
  "kernelspec": {
   "display_name": "Python 3",
   "language": "python",
   "name": "python3"
  },
  "language_info": {
   "codemirror_mode": {
    "name": "ipython",
    "version": 3
   },
   "file_extension": ".py",
   "mimetype": "text/x-python",
   "name": "python",
   "nbconvert_exporter": "python",
   "pygments_lexer": "ipython3",
   "version": "3.13.7"
  }
 },
 "nbformat": 4,
 "nbformat_minor": 5
}
